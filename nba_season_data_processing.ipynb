{
 "cells": [
  {
   "cell_type": "code",
   "execution_count": 150,
   "metadata": {},
   "outputs": [],
   "source": [
    "import pandas as pd\n",
    "\n",
    "# JJ Redick stats\n",
    "df_jj = pd.read_csv(\"jj_career.csv\")\n",
    "df_jj.to_json(path_or_buf=\"jj.json\", orient=\"records\")"
   ]
  },
  {
   "cell_type": "code",
   "execution_count": 135,
   "metadata": {},
   "outputs": [],
   "source": [
    "df_1950_to_2017_totals = pd.read_csv(\"Seasons_Stats.csv\")"
   ]
  },
  {
   "cell_type": "code",
   "execution_count": 136,
   "metadata": {},
   "outputs": [],
   "source": [
    "df_17_18_avgs = pd.read_csv(\"nba_2017-2018.csv\")\n",
    "df_18_19_avgs = pd.read_csv(\"nba_2018-2019.csv\")"
   ]
  },
  {
   "cell_type": "code",
   "execution_count": 137,
   "metadata": {},
   "outputs": [],
   "source": [
    "df_17_18_avgs[\"Year\"] = 2018\n",
    "df_18_19_avgs[\"Year\"] = 2019\n",
    "df_17_to_19 = pd.concat([df_17_18_avgs, df_18_19_avgs])"
   ]
  },
  {
   "cell_type": "code",
   "execution_count": 138,
   "metadata": {},
   "outputs": [],
   "source": [
    "df_17_to_19[\"Player\"] = df_17_to_19[\"Player\"].str.split(\"\\\\\").str[0]"
   ]
  },
  {
   "cell_type": "code",
   "execution_count": 139,
   "metadata": {},
   "outputs": [],
   "source": [
    "# change total pts col to AVG\n",
    "df_1950_to_2017_totals['PTS'] = df.apply(lambda row: row.PTS / row.G, axis=1)"
   ]
  },
  {
   "cell_type": "code",
   "execution_count": 140,
   "metadata": {},
   "outputs": [],
   "source": [
    "all_seasons = pd.concat([df_1950_to_2017_totals, df_17_to_19])"
   ]
  },
  {
   "cell_type": "code",
   "execution_count": 141,
   "metadata": {},
   "outputs": [],
   "source": [
    "# Filter to include only seasons with more than 10 games and ppg more than 15\n",
    "all_seasons_filtered = all_seasons[all_seasons[\"G\"] > 10]\n",
    "all_seasons_filtered = all_seasons_filtered[all_seasons_filtered[\"PTS\"] > 15]"
   ]
  },
  {
   "cell_type": "code",
   "execution_count": 142,
   "metadata": {},
   "outputs": [],
   "source": [
    "all_seasons_filtered = all_seasons_filtered[[\"Player\", \"Age\", \"Year\", \"PTS\", \"Tm\"]]"
   ]
  },
  {
   "cell_type": "code",
   "execution_count": 145,
   "metadata": {},
   "outputs": [],
   "source": [
    "# Drop players' partial seasons (leave the total)\n",
    "for temp_tuple in all_seasons_filtered[all_seasons_filtered.Tm == 'TOT'].itertuples():\n",
    "    part_seasons = all_seasons_filtered[\n",
    "        (all_seasons_filtered.Player == temp_tuple.Player) & (all_seasons_filtered.Year == temp_tuple.Year) & (all_seasons_filtered.Tm != 'TOT')\n",
    "    ]\n",
    "    if len(part_seasons) > 0:\n",
    "        all_seasons_filtered = all_seasons_filtered.drop(part_seasons.index)"
   ]
  },
  {
   "cell_type": "code",
   "execution_count": 146,
   "metadata": {},
   "outputs": [],
   "source": [
    "all_seasons_age_ppg = all_seasons_filtered.groupby('Player').apply(lambda x: x.loc[x.PTS == x.PTS.max(),['Player','Age', \"PTS\", \"Year\"]])"
   ]
  },
  {
   "cell_type": "code",
   "execution_count": 147,
   "metadata": {},
   "outputs": [],
   "source": [
    "all_seasons_age_ppg_year = all_seasons_age_ppg.sort_values(by=[\"Age\"], ascending=False).dropna()"
   ]
  },
  {
   "cell_type": "code",
   "execution_count": 153,
   "metadata": {},
   "outputs": [
    {
     "name": "stderr",
     "output_type": "stream",
     "text": [
      "<ipython-input-153-da99d8ed4d9d>:4: SettingWithCopyWarning: \n",
      "A value is trying to be set on a copy of a slice from a DataFrame.\n",
      "Try using .loc[row_indexer,col_indexer] = value instead\n",
      "\n",
      "See the caveats in the documentation: https://pandas.pydata.org/pandas-docs/stable/user_guide/indexing.html#returning-a-view-versus-a-copy\n",
      "  top_15_age_ppg[\"Year\"] = top_15_age_ppg[\"Year\"].apply(np.int64)\n",
      "<ipython-input-153-da99d8ed4d9d>:5: SettingWithCopyWarning: \n",
      "A value is trying to be set on a copy of a slice from a DataFrame.\n",
      "Try using .loc[row_indexer,col_indexer] = value instead\n",
      "\n",
      "See the caveats in the documentation: https://pandas.pydata.org/pandas-docs/stable/user_guide/indexing.html#returning-a-view-versus-a-copy\n",
      "  top_15_age_ppg[\"Age\"] = top_15_age_ppg[\"Age\"].apply(np.int64)\n"
     ]
    }
   ],
   "source": [
    "top_15_age_ppg = all_seasons_age_ppg_year.head(15)\n",
    "# formatting numbers\n",
    "import numpy as np\n",
    "top_15_age_ppg[\"Year\"] = top_15_age_ppg[\"Year\"].apply(np.int64)\n",
    "top_15_age_ppg[\"Age\"] = top_15_age_ppg[\"Age\"].apply(np.int64)\n",
    "top_15_age_ppg = top_15_age_ppg.round(1)"
   ]
  },
  {
   "cell_type": "code",
   "execution_count": 154,
   "metadata": {},
   "outputs": [],
   "source": [
    "top_15_age_ppg.to_json(path_or_buf=\"age_ppg.json\", orient=\"records\")"
   ]
  },
  {
   "cell_type": "code",
   "execution_count": null,
   "metadata": {},
   "outputs": [],
   "source": []
  }
 ],
 "metadata": {
  "kernelspec": {
   "display_name": "Python 3.7.6 64-bit",
   "language": "python",
   "name": "python37664bit9a991d96ee9f47f6ad5faabff17d07ff"
  },
  "language_info": {
   "codemirror_mode": {
    "name": "ipython",
    "version": 3
   },
   "file_extension": ".py",
   "mimetype": "text/x-python",
   "name": "python",
   "nbconvert_exporter": "python",
   "pygments_lexer": "ipython3",
   "version": "3.8.5"
  }
 },
 "nbformat": 4,
 "nbformat_minor": 4
}
